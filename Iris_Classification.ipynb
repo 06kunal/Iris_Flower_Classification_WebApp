{
 "cells": [
  {
   "cell_type": "markdown",
   "id": "4a2cca1f-c30f-4ddf-8e7f-b482b01db540",
   "metadata": {},
   "source": [
    "## Classification Project on Iris Dataset"
   ]
  },
  {
   "cell_type": "markdown",
   "id": "40252700-c85f-41ab-adca-50e5b347ad3e",
   "metadata": {},
   "source": [
    "In this project, we use a dataset to train the model to identify/recognize the target. We are classifying a flower called Iris. There are three species of this flower: setosa, Versicolor, and Virginica. When a new flower is given, we need to predict which type it belongs to."
   ]
  },
  {
   "cell_type": "code",
   "execution_count": 7,
   "id": "9f0872c7-6095-4d7d-b387-c48aae32a4c4",
   "metadata": {},
   "outputs": [],
   "source": [
    "import numpy as np\n",
    "import pandas as pd\n",
    "import matplotlib.pyplot as plt\n",
    "import seaborn as sns\n",
    "import sklearn"
   ]
  },
  {
   "cell_type": "markdown",
   "id": "1edd2e2d-eed2-4c86-8e0b-c8900c0402b4",
   "metadata": {},
   "source": [
    "## Loading the DataSet"
   ]
  },
  {
   "cell_type": "code",
   "execution_count": null,
   "id": "13984cec-7f01-41c9-af67-31210eb2caa5",
   "metadata": {},
   "outputs": [],
   "source": []
  }
 ],
 "metadata": {
  "kernelspec": {
   "display_name": "Python [conda env:base] *",
   "language": "python",
   "name": "conda-base-py"
  },
  "language_info": {
   "codemirror_mode": {
    "name": "ipython",
    "version": 3
   },
   "file_extension": ".py",
   "mimetype": "text/x-python",
   "name": "python",
   "nbconvert_exporter": "python",
   "pygments_lexer": "ipython3",
   "version": "3.11.7"
  }
 },
 "nbformat": 4,
 "nbformat_minor": 5
}
