{
 "cells": [
  {
   "cell_type": "markdown",
   "id": "4a2cca1f-c30f-4ddf-8e7f-b482b01db540",
   "metadata": {},
   "source": [
    "## Classification on Iris Dataset"
   ]
  },
  {
   "cell_type": "markdown",
   "id": "40252700-c85f-41ab-adca-50e5b347ad3e",
   "metadata": {},
   "source": [
    "This Python script will contain classification on the Iris Flower Dataset. I have used Logistic Regression, KNeighbour, and Deciesion Tree classification for this project. "
   ]
  },
  {
   "cell_type": "code",
   "execution_count": null,
   "id": "979a9aea-3264-4407-b9a8-42839fb9a1e8",
   "metadata": {},
   "outputs": [],
   "source": []
  }
 ],
 "metadata": {
  "kernelspec": {
   "display_name": "Python [conda env:base] *",
   "language": "python",
   "name": "conda-base-py"
  },
  "language_info": {
   "codemirror_mode": {
    "name": "ipython",
    "version": 3
   },
   "file_extension": ".py",
   "mimetype": "text/x-python",
   "name": "python",
   "nbconvert_exporter": "python",
   "pygments_lexer": "ipython3",
   "version": "3.11.7"
  }
 },
 "nbformat": 4,
 "nbformat_minor": 5
}
